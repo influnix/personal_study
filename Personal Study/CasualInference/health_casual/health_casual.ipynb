{
 "cells": [
  {
   "cell_type": "code",
   "execution_count": 1,
   "metadata": {},
   "outputs": [],
   "source": [
    "import pandas as pd\n",
    "import numpy as np\n",
    "from sklearn.linear_model import LogisticRegression"
   ]
  },
  {
   "cell_type": "markdown",
   "metadata": {},
   "source": [
    "# 1. 데이터 로드 및 전처리"
   ]
  },
  {
   "cell_type": "code",
   "execution_count": 2,
   "metadata": {},
   "outputs": [],
   "source": [
    "df = pd.read_csv('./data/framingham.csv')"
   ]
  },
  {
   "cell_type": "code",
   "execution_count": 4,
   "metadata": {},
   "outputs": [],
   "source": [
    "# 분석에 사용할 변수들\n",
    "cols = ['currentSmoker', 'age', 'male', 'BMI', 'sysBP', 'totChol', 'glucose', 'TenYearCHD']\n",
    "df = df.dropna(subset=cols)"
   ]
  },
  {
   "cell_type": "code",
   "execution_count": 6,
   "metadata": {},
   "outputs": [],
   "source": [
    "# treatment: currentSmoker (1: 흡연, 0: 비흡연)\n",
    "T = df['currentSmoker']\n",
    "# outcome: 10년 내 심장질환 발생 (1: 발생, 0: 미발생)\n",
    "Y = df['TenYearCHD']\n",
    "# confounders: 나이, 성별, BMI, 수축기 혈압, 총콜레스테롤, 혈당\n",
    "X = df[['age', 'male', 'BMI', 'sysBP', 'totChol', 'glucose']]"
   ]
  },
  {
   "cell_type": "markdown",
   "metadata": {},
   "source": [
    "# 2. Propensity Score 계산 (로지스틱 회귀 사용)"
   ]
  },
  {
   "cell_type": "code",
   "execution_count": 7,
   "metadata": {},
   "outputs": [
    {
     "name": "stderr",
     "output_type": "stream",
     "text": [
      "C:\\Users\\PC\\AppData\\Local\\Temp\\ipykernel_23236\\3840394917.py:3: SettingWithCopyWarning: \n",
      "A value is trying to be set on a copy of a slice from a DataFrame.\n",
      "Try using .loc[row_indexer,col_indexer] = value instead\n",
      "\n",
      "See the caveats in the documentation: https://pandas.pydata.org/pandas-docs/stable/user_guide/indexing.html#returning-a-view-versus-a-copy\n",
      "  df['propensity'] = logit.predict_proba(X)[:, 1]\n"
     ]
    }
   ],
   "source": [
    "logit = LogisticRegression(max_iter=1000)\n",
    "logit.fit(X, T)\n",
    "df['propensity'] = logit.predict_proba(X)[:, 1]"
   ]
  },
  {
   "cell_type": "markdown",
   "metadata": {},
   "source": [
    "# 3. Nearest Neighbor Matching (1:1, 대체 없이)"
   ]
  },
  {
   "cell_type": "code",
   "execution_count": 10,
   "metadata": {},
   "outputs": [],
   "source": [
    "treated = df[df['currentSmoker'] == 1]\n",
    "control = df[df['currentSmoker'] == 0]\n",
    "\n",
    "matched_pairs = []\n",
    "control_indices_used = set()\n",
    "\n",
    "for treated_idx, treated_row in treated.iterrows():\n",
    "    ps_treated = treated_row['propensity']\n",
    "    # 아직 매칭되지 않은 control group 추출\n",
    "    available_controls = control.loc[~control.index.isin(control_indices_used)]\n",
    "    if available_controls.empty:\n",
    "        break  # 더 이상 매칭 가능한 control이 없으면 종료\n",
    "    # 흡연군과 가장 가까운 propensity score을 가진 대조군 찾기\n",
    "    closest_control_idx = (available_controls['propensity'] - ps_treated).abs().idxmin()\n",
    "    matched_pairs.append((treated_idx, closest_control_idx))\n",
    "    control_indices_used.add(closest_control_idx)"
   ]
  },
  {
   "cell_type": "code",
   "execution_count": 11,
   "metadata": {},
   "outputs": [],
   "source": [
    "# 매칭된 인덱스 추출\n",
    "matched_treated_indices = [pair[0] for pair in matched_pairs]\n",
    "matched_control_indices = [pair[1] for pair in matched_pairs]"
   ]
  },
  {
   "cell_type": "markdown",
   "metadata": {},
   "source": [
    "# 4. 인과 효과 추청: 매칭된 샘플에서 outcome의 평균 차이 계산"
   ]
  },
  {
   "cell_type": "code",
   "execution_count": 12,
   "metadata": {},
   "outputs": [
    {
     "name": "stdout",
     "output_type": "stream",
     "text": [
      "Estimated Treatment Effect (Difference in 10-year CHD rates): 0.02182011708355508\n"
     ]
    }
   ],
   "source": [
    "treated_outcomes = df.loc[matched_treated_indices, 'TenYearCHD']\n",
    "control_outcomes = df.loc[matched_control_indices, 'TenYearCHD']\n",
    "\n",
    "effect = treated_outcomes.mean() - control_outcomes.mean()\n",
    "print('Estimated Treatment Effect (Difference in 10-year CHD rates):', effect)"
   ]
  },
  {
   "cell_type": "markdown",
   "metadata": {},
   "source": [
    "# 결과 해석\n",
    "- 이 결과는 매칭된 샘플에서 **흡연군이 비흡연군보다 약 2.18% 높은 심장질환 발생률**을 보인다는 것을 의미합니다.\n",
    "- 즉, 통제된 혼란 변수들(나이, 성별, BMI, 혈압, 콜레스테롤, 혈당)을 고려할 때, 흡연이 10년 내 심장질환 발생 위험을 증가시키는 요인으로 작용할 가능성이 있음을 시사합니다.\n",
    "- 다만, 이 결과는 관찰 연구 기반의 추정치이므로, 잠재적 교란변수나 매칭의 질, 모형의 가정 등에 대한 추가 검증이 필요합니다."
   ]
  },
  {
   "cell_type": "code",
   "execution_count": null,
   "metadata": {},
   "outputs": [],
   "source": []
  },
  {
   "cell_type": "code",
   "execution_count": null,
   "metadata": {},
   "outputs": [],
   "source": []
  }
 ],
 "metadata": {
  "kernelspec": {
   "display_name": "portfolio",
   "language": "python",
   "name": "python3"
  },
  "language_info": {
   "codemirror_mode": {
    "name": "ipython",
    "version": 3
   },
   "file_extension": ".py",
   "mimetype": "text/x-python",
   "name": "python",
   "nbconvert_exporter": "python",
   "pygments_lexer": "ipython3",
   "version": "3.12.8"
  }
 },
 "nbformat": 4,
 "nbformat_minor": 2
}
