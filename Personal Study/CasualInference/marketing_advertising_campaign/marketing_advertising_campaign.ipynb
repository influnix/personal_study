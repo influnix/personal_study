{
 "cells": [
  {
   "cell_type": "code",
   "execution_count": 1,
   "metadata": {},
   "outputs": [],
   "source": [
    "import pandas as pd\n",
    "import numpy as np\n",
    "import statsmodels.formula.api as smf"
   ]
  },
  {
   "cell_type": "markdown",
   "metadata": {},
   "source": [
    "# 1. 데이터 로드"
   ]
  },
  {
   "cell_type": "code",
   "execution_count": 2,
   "metadata": {},
   "outputs": [],
   "source": [
    "# 데이터셋 다운로드: httphttps://archive.ics.uci.edu/ml/datasets/online+retail\n",
    "df = pd.read_excel('./data/online+retail/Online Retail.xlsx')"
   ]
  },
  {
   "cell_type": "markdown",
   "metadata": {},
   "source": [
    "# 2. 전처리: 결측 CustomID 제거"
   ]
  },
  {
   "cell_type": "code",
   "execution_count": 4,
   "metadata": {},
   "outputs": [],
   "source": [
    "df = df[df['CustomerID'].notnull()]"
   ]
  },
  {
   "cell_type": "markdown",
   "metadata": {},
   "source": [
    "# 3. 구매 금액 계산: (Quantity * UnitPrice)"
   ]
  },
  {
   "cell_type": "code",
   "execution_count": 6,
   "metadata": {},
   "outputs": [
    {
     "name": "stderr",
     "output_type": "stream",
     "text": [
      "C:\\Users\\PC\\AppData\\Local\\Temp\\ipykernel_33692\\3456016273.py:1: SettingWithCopyWarning: \n",
      "A value is trying to be set on a copy of a slice from a DataFrame.\n",
      "Try using .loc[row_indexer,col_indexer] = value instead\n",
      "\n",
      "See the caveats in the documentation: https://pandas.pydata.org/pandas-docs/stable/user_guide/indexing.html#returning-a-view-versus-a-copy\n",
      "  df['purchase_amount'] = df['Quantity'] * df['UnitPrice']\n"
     ]
    }
   ],
   "source": [
    "df['purchase_amount'] = df['Quantity'] * df['UnitPrice']"
   ]
  },
  {
   "cell_type": "markdown",
   "metadata": {},
   "source": [
    "# 4. 날짜 변수 변환: InvoiceDate를 datetime 형식으로 변경"
   ]
  },
  {
   "cell_type": "code",
   "execution_count": 8,
   "metadata": {},
   "outputs": [
    {
     "name": "stderr",
     "output_type": "stream",
     "text": [
      "C:\\Users\\PC\\AppData\\Local\\Temp\\ipykernel_33692\\3633860036.py:1: SettingWithCopyWarning: \n",
      "A value is trying to be set on a copy of a slice from a DataFrame.\n",
      "Try using .loc[row_indexer,col_indexer] = value instead\n",
      "\n",
      "See the caveats in the documentation: https://pandas.pydata.org/pandas-docs/stable/user_guide/indexing.html#returning-a-view-versus-a-copy\n",
      "  df['InvoiceDate'] = pd.to_datetime(df['InvoiceDate'])\n"
     ]
    }
   ],
   "source": [
    "df['InvoiceDate'] = pd.to_datetime(df['InvoiceDate'])"
   ]
  },
  {
   "cell_type": "markdown",
   "metadata": {},
   "source": [
    "# 5. 캠페인 전후 구분"
   ]
  },
  {
   "cell_type": "code",
   "execution_count": 10,
   "metadata": {},
   "outputs": [
    {
     "name": "stderr",
     "output_type": "stream",
     "text": [
      "C:\\Users\\PC\\AppData\\Local\\Temp\\ipykernel_33692\\3351291811.py:3: SettingWithCopyWarning: \n",
      "A value is trying to be set on a copy of a slice from a DataFrame.\n",
      "Try using .loc[row_indexer,col_indexer] = value instead\n",
      "\n",
      "See the caveats in the documentation: https://pandas.pydata.org/pandas-docs/stable/user_guide/indexing.html#returning-a-view-versus-a-copy\n",
      "  df['time'] = (df['InvoiceDate'] >= campaign_start).astype(int)\n"
     ]
    }
   ],
   "source": [
    "# 예: 캠페인 시작일을 2011-12-01로 가정\n",
    "campaign_start = pd.to_datetime('2011-12-01')\n",
    "df['time'] = (df['InvoiceDate'] >= campaign_start).astype(int)"
   ]
  },
  {
   "cell_type": "markdown",
   "metadata": {},
   "source": [
    "# 6. 처리군(treated) vs 통제군(control) 구분"
   ]
  },
  {
   "cell_type": "code",
   "execution_count": 12,
   "metadata": {},
   "outputs": [
    {
     "name": "stderr",
     "output_type": "stream",
     "text": [
      "C:\\Users\\PC\\AppData\\Local\\Temp\\ipykernel_33692\\115059649.py:5: SettingWithCopyWarning: \n",
      "A value is trying to be set on a copy of a slice from a DataFrame.\n",
      "Try using .loc[row_indexer,col_indexer] = value instead\n",
      "\n",
      "See the caveats in the documentation: https://pandas.pydata.org/pandas-docs/stable/user_guide/indexing.html#returning-a-view-versus-a-copy\n",
      "  df['treated_flag'] = df['CustomerID'].map(treatment_assignment)\n"
     ]
    }
   ],
   "source": [
    "# 예: 고객별로 무작위로 쿠폰 발행 여부를 할당 (처리 확률 50%)\n",
    "unique_cutomers = df['CustomerID'].unique()\n",
    "np.random.seed(42)  # 재현성을 위해 시드 고정\n",
    "treatment_assignment = {customer: np.random.binomial(1, 0.5) for customer in unique_cutomers}\n",
    "df['treated_flag'] = df['CustomerID'].map(treatment_assignment)"
   ]
  },
  {
   "cell_type": "markdown",
   "metadata": {},
   "source": [
    "# 7. DiD 분석을 위해 고객별, 시점별로 구매액 집계"
   ]
  },
  {
   "cell_type": "code",
   "execution_count": 14,
   "metadata": {},
   "outputs": [],
   "source": [
    "agg_df = df.groupby(['CustomerID', 'treated_flag', 'time'])['purchase_amount'].sum().reset_index()"
   ]
  },
  {
   "cell_type": "markdown",
   "metadata": {},
   "source": [
    "# 8. Difference-in-Differences 회귀 분석"
   ]
  },
  {
   "cell_type": "code",
   "execution_count": 16,
   "metadata": {},
   "outputs": [
    {
     "name": "stdout",
     "output_type": "stream",
     "text": [
      "                            OLS Regression Results                            \n",
      "==============================================================================\n",
      "Dep. Variable:        purchase_amount   R-squared:                       0.004\n",
      "Model:                            OLS   Adj. R-squared:                  0.003\n",
      "Method:                 Least Squares   F-statistic:                     6.608\n",
      "Date:                Sat, 15 Feb 2025   Prob (F-statistic):           0.000188\n",
      "Time:                        19:08:02   Log-Likelihood:                -51810.\n",
      "No. Observations:                5017   AIC:                         1.036e+05\n",
      "Df Residuals:                    5013   BIC:                         1.037e+05\n",
      "Df Model:                           3                                         \n",
      "Covariance Type:            nonrobust                                         \n",
      "=====================================================================================\n",
      "                        coef    std err          t      P>|t|      [0.025      0.975]\n",
      "-------------------------------------------------------------------------------------\n",
      "Intercept          1763.5531    159.165     11.080      0.000    1451.520    2075.586\n",
      "treated_flag        147.0828    224.705      0.655      0.513    -293.437     587.602\n",
      "time              -1270.3663    431.424     -2.945      0.003   -2116.147    -424.586\n",
      "treated_flag:time  -135.0012    607.693     -0.222      0.824   -1326.345    1056.343\n",
      "==============================================================================\n",
      "Omnibus:                    11759.519   Durbin-Watson:                   1.938\n",
      "Prob(Omnibus):                  0.000   Jarque-Bera (JB):        100075722.808\n",
      "Skew:                          23.187   Prob(JB):                         0.00\n",
      "Kurtosis:                     693.352   Cond. No.                         7.80\n",
      "==============================================================================\n",
      "\n",
      "Notes:\n",
      "[1] Standard Errors assume that the covariance matrix of the errors is correctly specified.\n"
     ]
    }
   ],
   "source": [
    "# 모형: purchase_amount ~ treated_flag + time + treated_flag:time\n",
    "model = smf.ols(formula='purchase_amount ~ treated_flag + time + treated_flag:time', data=agg_df).fit()\n",
    "print(model.summary())"
   ]
  },
  {
   "cell_type": "markdown",
   "metadata": {},
   "source": [
    "# 결과 해석\n",
    "- **Intercept (1763.55):**\n",
    "    \n",
    "    캠페인 이전, 통제군의 평균 구매액이 약 1,763.55임을 나타냅니다.\n",
    "    \n",
    "- **treated_flag (147.08, p=0.513):**\n",
    "    \n",
    "    캠페인 이전에 처리군이 통제군보다 평균적으로 약 147.08만큼 높은 구매액을 보였으나, 통계적으로 유의하지 않습니다.\n",
    "    \n",
    "- **time (-1270.37, p=0.003):**\n",
    "    \n",
    "    캠페인 이후, 통제군의 구매액이 약 1,270.37만큼 감소했음을 의미하며, 이는 통계적으로 유의한 결과입니다.\n",
    "    \n",
    "    - 이 결과는 계절성 또는 외부 요인에 의한 전반적 구매 감소 가능성을 시사할 수 있습니다.\n",
    "- **treated_flag:time (-135.00, p=0.824):**\n",
    "    \n",
    "    DiD 효과로, 캠페인 이후 처리군과 통제군 간의 추가적인 차이를 의미합니다.\n",
    "    \n",
    "    - 계수가 -135로 나타났으나, p-value가 높아 유의하지 않으므로, 캠페인이 처리군의 구매액에 별다른 인과적 영향을 미쳤다고 보기는 어렵습니다."
   ]
  },
  {
   "cell_type": "markdown",
   "metadata": {},
   "source": [
    "- **추가 고려사항:**\n",
    "    - 전체 모형의 설명력이 낮은 편(R² ≈ 0.004)이며, 이는 모델에 포함된 변수 외에도 구매액에 영향을 주는 다른 요인들이 있을 가능성을 암시합니다.\n",
    "    - 데이터의 분포(예: 왜도와 첨도)가 매우 치우쳐 있을 수 있으므로, 추가 전처리나 로그 변환 등의 조치가 필요할 수 있습니다."
   ]
  },
  {
   "cell_type": "code",
   "execution_count": null,
   "metadata": {},
   "outputs": [],
   "source": []
  },
  {
   "cell_type": "code",
   "execution_count": null,
   "metadata": {},
   "outputs": [],
   "source": []
  },
  {
   "cell_type": "code",
   "execution_count": null,
   "metadata": {},
   "outputs": [],
   "source": []
  }
 ],
 "metadata": {
  "kernelspec": {
   "display_name": "portfolio",
   "language": "python",
   "name": "python3"
  },
  "language_info": {
   "codemirror_mode": {
    "name": "ipython",
    "version": 3
   },
   "file_extension": ".py",
   "mimetype": "text/x-python",
   "name": "python",
   "nbconvert_exporter": "python",
   "pygments_lexer": "ipython3",
   "version": "3.12.8"
  }
 },
 "nbformat": 4,
 "nbformat_minor": 2
}
