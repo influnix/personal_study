{
 "cells": [
  {
   "cell_type": "markdown",
   "metadata": {},
   "source": [
    "# 에나론 이메일 데이터셋을 활용한 조직 내 커뮤니케이션 네트워크 분석"
   ]
  },
  {
   "cell_type": "code",
   "execution_count": 3,
   "metadata": {},
   "outputs": [
    {
     "name": "stdout",
     "output_type": "stream",
     "text": [
      "압축 해제 완료: ./data/enron_mail_20150507.tar\n"
     ]
    },
    {
     "name": "stderr",
     "output_type": "stream",
     "text": [
      "C:\\Users\\PC\\AppData\\Local\\Temp\\ipykernel_44996\\3841517973.py:23: DeprecationWarning: Python 3.14 will, by default, filter extracted tar archives and reject files or modify their metadata. Use the filter argument to control this behavior.\n",
      "  tar.extractall(path=output_directory)\n"
     ]
    },
    {
     "name": "stdout",
     "output_type": "stream",
     "text": [
      "압축 해제 완료: ./data/\n"
     ]
    }
   ],
   "source": [
    "import gzip\n",
    "import shutil\n",
    "\n",
    "# 압축 해제할 .gz 파일 경로와 출력 파일 경로를 설정\n",
    "input_gz_file = './data/enron_mail_20150507.tar.gz'\n",
    "output_file = './data/enron_mail_20150507.tar'\n",
    "\n",
    "# gzip 파일 압축 해제\n",
    "with gzip.open(input_gz_file, 'rb') as gz_file:\n",
    "    with open(output_file, 'wb') as out_file:\n",
    "        shutil.copyfileobj(gz_file, out_file)\n",
    "\n",
    "print(f\"압축 해제 완료: {output_file}\")\n",
    "\n",
    "import tarfile\n",
    "\n",
    "# 압축 해제할 tar 파일 경로와 출력 디렉터리를 설정\n",
    "input_tar_file = './data/enron_mail_20150507.tar'\n",
    "output_directory = './data/'\n",
    "\n",
    "# tar 파일 압축 해제\n",
    "with tarfile.open(input_tar_file, 'r') as tar:\n",
    "    tar.extractall(path=output_directory)\n",
    "    print(f\"압축 해제 완료: {output_directory}\")"
   ]
  },
  {
   "cell_type": "code",
   "execution_count": null,
   "metadata": {},
   "outputs": [],
   "source": []
  },
  {
   "cell_type": "code",
   "execution_count": null,
   "metadata": {},
   "outputs": [],
   "source": []
  },
  {
   "cell_type": "code",
   "execution_count": null,
   "metadata": {},
   "outputs": [],
   "source": []
  },
  {
   "cell_type": "code",
   "execution_count": null,
   "metadata": {},
   "outputs": [],
   "source": []
  }
 ],
 "metadata": {
  "kernelspec": {
   "display_name": "portfolio",
   "language": "python",
   "name": "python3"
  },
  "language_info": {
   "codemirror_mode": {
    "name": "ipython",
    "version": 3
   },
   "file_extension": ".py",
   "mimetype": "text/x-python",
   "name": "python",
   "nbconvert_exporter": "python",
   "pygments_lexer": "ipython3",
   "version": "3.12.7"
  }
 },
 "nbformat": 4,
 "nbformat_minor": 2
}
