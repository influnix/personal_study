{
 "cells": [
  {
   "cell_type": "markdown",
   "metadata": {},
   "source": [
    "# 간단한 이미지 복원 모델 구현 및 학습"
   ]
  },
  {
   "cell_type": "markdown",
   "metadata": {},
   "source": [
    "## 1. 데이터 준비\n",
    "1. CIFAR-10 데이터셋 다운로드 및 로드\n",
    "2. 저해상도 이미지 및 노이즈 추가\n",
    "3. 데이터로더 구성"
   ]
  },
  {
   "cell_type": "code",
   "execution_count": 1,
   "metadata": {},
   "outputs": [],
   "source": [
    "import torch\n",
    "from torchvision import datasets, transforms\n",
    "from torch.utils.data import DataLoader"
   ]
  },
  {
   "cell_type": "code",
   "execution_count": 2,
   "metadata": {},
   "outputs": [
    {
     "name": "stdout",
     "output_type": "stream",
     "text": [
      "Files already downloaded and verified\n",
      "Files already downloaded and verified\n"
     ]
    }
   ],
   "source": [
    "# 데이터 변환 설정\n",
    "transform = transforms.Compose([\n",
    "    transforms.ToTensor()\n",
    "])\n",
    "\n",
    "# CIFAR-10 데이터셋 로드\n",
    "train_dataset = datasets.CIFAR10(root='./data', train=True, transform=transform, download=True)\n",
    "test_dataset = datasets.CIFAR10(root='./data', train=False, transform=transform, download=True)"
   ]
  },
  {
   "cell_type": "code",
   "execution_count": 3,
   "metadata": {},
   "outputs": [],
   "source": [
    "# 저해상도 이미지 생성 함수\n",
    "def create_low_resolution(img, scale_factor):\n",
    "    low_res = transforms.functional.resize(img, [img.size(1)//scale_factor, img.size(2)//scale_factor])\n",
    "    low_res = transforms.functional.resize(low_res, [img.size(1), img.size(2)])\n",
    "    return low_res\n",
    "\n",
    "# 노이즈 추가 함수\n",
    "def add_noise(img, noise_factor=0.5):\n",
    "    noise = torch.randn(img.size()) * noise_factor\n",
    "    noisy_img = img + noise\n",
    "    noisy_img = torch.clamp(noisy_img, 0., 1.)\n",
    "    return noisy_img"
   ]
  },
  {
   "cell_type": "code",
   "execution_count": 4,
   "metadata": {},
   "outputs": [],
   "source": [
    "# 데이터셋 클래스 정의\n",
    "class ImageDataset(torch.utils.data.Dataset):\n",
    "    def __init__(self, dataset, transform=None, degradation='downscale', scale_factor=2):\n",
    "        self.dataset = dataset\n",
    "        self.transform = transform\n",
    "        self.degradation = degradation\n",
    "        self.scale_factor = scale_factor\n",
    "        \n",
    "    def __getitem__(self, index):\n",
    "        img, _ = self.dataset[index]\n",
    "        if self.degradation == 'downscale':\n",
    "            degraded_img = create_low_resolution(img, self.scale_factor)\n",
    "        elif self.degradation == 'noise':\n",
    "            degraded_img = add_noise(img)\n",
    "        else:\n",
    "            raise ValueError('Invalid degradation type')\n",
    "        \n",
    "        if self.transform:\n",
    "            degraded_img = self.transform(degraded_img)\n",
    "            img = self.transform(img)\n",
    "            \n",
    "        return degraded_img, img\n",
    "    \n",
    "    def __len__(self):\n",
    "        return len(self.dataset)"
   ]
  },
  {
   "cell_type": "code",
   "execution_count": 5,
   "metadata": {},
   "outputs": [],
   "source": [
    "# 학습 및 테스트 데이터셋 생성 (다운스케일링 예시)\n",
    "train_data = ImageDataset(train_dataset, degradation='downscale', scale_factor=2)\n",
    "test_data = ImageDataset(test_dataset, degradation='downscale', scale_factor=2)\n",
    "\n",
    "# 데이터로더 생성\n",
    "train_loader = DataLoader(train_data, batch_size=64, shuffle=True)\n",
    "test_loader = DataLoader(test_data, batch_size=64, shuffle=False)"
   ]
  },
  {
   "cell_type": "markdown",
   "metadata": {},
   "source": [
    "## 2. 모델 설계\n",
    "- 간단한 CNN 모델 설계"
   ]
  },
  {
   "cell_type": "code",
   "execution_count": 6,
   "metadata": {},
   "outputs": [],
   "source": [
    "import torch.nn as nn"
   ]
  },
  {
   "cell_type": "code",
   "execution_count": 7,
   "metadata": {},
   "outputs": [],
   "source": [
    "class SimpleImageRestorationModel(nn.Module):\n",
    "    def __init__(self):\n",
    "        super(SimpleImageRestorationModel, self).__init__()\n",
    "        self.conv1 = nn.Conv2d(3, 64, kernel_size=9, padding=4)\n",
    "        self.relu = nn.ReLU()\n",
    "        self.conv2 = nn.Conv2d(64, 32, kernel_size=5, padding=2)\n",
    "        self.conv3 = nn.Conv2d(32, 3, kernel_size=5, padding=2)\n",
    "        \n",
    "    def forward(self, x):\n",
    "        x = self.relu(self.conv1(x))\n",
    "        x = self.relu(self.conv2(x))\n",
    "        x = self.conv3(x)\n",
    "        return x"
   ]
  },
  {
   "cell_type": "markdown",
   "metadata": {},
   "source": [
    "## 3. 모델 학습\n",
    "1. 손실 함수 및 옵티마이저 설정\n",
    "2. 학습 루프 구현"
   ]
  },
  {
   "cell_type": "code",
   "execution_count": 8,
   "metadata": {},
   "outputs": [],
   "source": [
    "model = SimpleImageRestorationModel()\n",
    "criterion = nn.MSELoss()\n",
    "optimizer = torch.optim.Adam(model.parameters(), lr=0.001)"
   ]
  },
  {
   "cell_type": "code",
   "execution_count": 9,
   "metadata": {},
   "outputs": [
    {
     "name": "stdout",
     "output_type": "stream",
     "text": [
      "Epoch [1/10], Loss: 0.0062\n",
      "Epoch [2/10], Loss: 0.0027\n",
      "Epoch [3/10], Loss: 0.0025\n",
      "Epoch [4/10], Loss: 0.0023\n",
      "Epoch [5/10], Loss: 0.0023\n",
      "Epoch [6/10], Loss: 0.0022\n",
      "Epoch [7/10], Loss: 0.0021\n",
      "Epoch [8/10], Loss: 0.0021\n",
      "Epoch [9/10], Loss: 0.0021\n",
      "Epoch [10/10], Loss: 0.0020\n"
     ]
    }
   ],
   "source": [
    "# 학습 루프\n",
    "num_epochs = 10\n",
    "for epoch in range(num_epochs):\n",
    "    model.train()\n",
    "    epoch_loss = 0\n",
    "    for degraded_imgs, original_imgs in train_loader:\n",
    "        outputs = model(degraded_imgs)\n",
    "        loss = criterion(outputs, original_imgs)\n",
    "        optimizer.zero_grad()\n",
    "        loss.backward()\n",
    "        optimizer.step()\n",
    "        epoch_loss += loss.item()\n",
    "    avg_loss = epoch_loss / len(train_loader)\n",
    "    print(f'Epoch [{epoch+1}/{num_epochs}], Loss: {avg_loss:.4f}')"
   ]
  },
  {
   "cell_type": "markdown",
   "metadata": {},
   "source": [
    "## 4. 모델 평가\n",
    "1. 평가 지표 계산\n",
    "2. 테스트 데이터셋을 사용하여 모델 성능 평가"
   ]
  },
  {
   "cell_type": "code",
   "execution_count": 10,
   "metadata": {},
   "outputs": [],
   "source": [
    "import math"
   ]
  },
  {
   "cell_type": "code",
   "execution_count": 13,
   "metadata": {},
   "outputs": [],
   "source": [
    "def calculate_psnr(img1, img2):\n",
    "    mse = torch.mean((img1 - img2) ** 2)\n",
    "    if mse == 0:\n",
    "        return 100\n",
    "    psnr = 20 * torch.log10(torch.tensor(1.0 / math.sqrt(mse)))\n",
    "    return psnr"
   ]
  },
  {
   "cell_type": "code",
   "execution_count": 14,
   "metadata": {},
   "outputs": [
    {
     "name": "stdout",
     "output_type": "stream",
     "text": [
      "Average PSNR: 26.95 dB\n"
     ]
    }
   ],
   "source": [
    "model.eval()\n",
    "total_psnr = 0\n",
    "with torch.no_grad():\n",
    "    for degraded_imgs, original_imgs in test_loader:\n",
    "        outputs = model(degraded_imgs)\n",
    "        psnr = calculate_psnr(outputs, original_imgs)\n",
    "        total_psnr += psnr\n",
    "avg_psnr = total_psnr / len(test_loader)\n",
    "print(f'Average PSNR: {avg_psnr:.2f} dB')"
   ]
  },
  {
   "cell_type": "markdown",
   "metadata": {},
   "source": [
    "## 5. 결과 시각화\n",
    "- 복원된 이미지와 원본 이미지 비교"
   ]
  },
  {
   "cell_type": "code",
   "execution_count": 15,
   "metadata": {},
   "outputs": [],
   "source": [
    "import matplotlib.pyplot as plt"
   ]
  },
  {
   "cell_type": "code",
   "execution_count": 17,
   "metadata": {},
   "outputs": [],
   "source": [
    "# 예시 이미지 시각화\n",
    "dataiter = iter(test_loader)\n",
    "degraded_imgs, original_imgs = next(dataiter)\n",
    "\n",
    "# 모델을 사용하여 복원\n",
    "with torch.no_grad():\n",
    "    restored_imgs = model(degraded_imgs)"
   ]
  },
  {
   "cell_type": "code",
   "execution_count": 18,
   "metadata": {},
   "outputs": [],
   "source": [
    "# 첫 번째 이미지 선택\n",
    "idx = 0\n",
    "degraded_img = degraded_imgs[idx].permute(1, 2, 0).numpy()\n",
    "restored_img = restored_imgs[idx].permute(1, 2, 0).numpy()\n",
    "original_img = original_imgs[idx].permute(1, 2, 0).numpy()"
   ]
  },
  {
   "cell_type": "code",
   "execution_count": 19,
   "metadata": {},
   "outputs": [
    {
     "name": "stderr",
     "output_type": "stream",
     "text": [
      "Clipping input data to the valid range for imshow with RGB data ([0..1] for floats or [0..255] for integers). Got range [0.07597301..1.0022018].\n"
     ]
    },
    {
     "ename": "",
     "evalue": "",
     "output_type": "error",
     "traceback": [
      "\u001b[1;31mThe Kernel crashed while executing code in the current cell or a previous cell. \n",
      "\u001b[1;31mPlease review the code in the cell(s) to identify a possible cause of the failure. \n",
      "\u001b[1;31mClick <a href='https://aka.ms/vscodeJupyterKernelCrash'>here</a> for more info. \n",
      "\u001b[1;31mView Jupyter <a href='command:jupyter.viewOutput'>log</a> for further details."
     ]
    }
   ],
   "source": [
    "# 이미지 시각화\n",
    "plt.figure(figsize=(15, 5))\n",
    "\n",
    "plt.subplot(1, 3, 1)\n",
    "plt.title('Degraded Image')\n",
    "plt.imshow(degraded_img)\n",
    "plt.axis('off')\n",
    "\n",
    "plt.subplot(1, 3, 2)\n",
    "plt.title('Restored Image')\n",
    "plt.imshow(restored_img)\n",
    "plt.axis('off')\n",
    "\n",
    "plt.subplot(1, 3, 3)\n",
    "plt.title('Original Image')\n",
    "plt.imshow(original_img)\n",
    "plt.axis('off')\n",
    "\n",
    "plt.show()"
   ]
  },
  {
   "cell_type": "code",
   "execution_count": null,
   "metadata": {},
   "outputs": [],
   "source": []
  }
 ],
 "metadata": {
  "kernelspec": {
   "display_name": "portfolio",
   "language": "python",
   "name": "python3"
  },
  "language_info": {
   "codemirror_mode": {
    "name": "ipython",
    "version": 3
   },
   "file_extension": ".py",
   "mimetype": "text/x-python",
   "name": "python",
   "nbconvert_exporter": "python",
   "pygments_lexer": "ipython3",
   "version": "3.12.7"
  }
 },
 "nbformat": 4,
 "nbformat_minor": 2
}
